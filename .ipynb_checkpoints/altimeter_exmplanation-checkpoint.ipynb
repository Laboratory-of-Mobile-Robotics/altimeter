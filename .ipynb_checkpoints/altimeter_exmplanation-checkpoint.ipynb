{
 "cells": [
  {
   "cell_type": "markdown",
   "metadata": {},
   "source": [
    "# Altimeter"
   ]
  },
  {
   "cell_type": "code",
   "execution_count": 2,
   "metadata": {},
   "outputs": [],
   "source": [
    "import serial\n",
    "import time"
   ]
  },
  {
   "cell_type": "code",
   "execution_count": 4,
   "metadata": {},
   "outputs": [],
   "source": [
    "relative = False\n",
    "ser = serial.Serial('/dev/ttyUSB0', 9600)"
   ]
  },
  {
   "cell_type": "code",
   "execution_count": 6,
   "metadata": {},
   "outputs": [],
   "source": [
    "def parse_serial(message, delimiter=\",\"):\n",
    "    data = []\n",
    "    aux = \"\"\n",
    "    for c in message:\n",
    "        if(c != delimiter):\n",
    "            aux += c\n",
    "        elif(c == delimiter):\n",
    "            data.append(float(aux))\n",
    "            aux = \"\"\n",
    "    data.append(float(aux))\n",
    "    \n",
    "    return data"
   ]
  },
  {
   "cell_type": "markdown",
   "metadata": {},
   "source": [
    "Altitude estimation based on pressure and temperature\n",
    "\n",
    "(https://physics.stackexchange.com/questions/333475/how-to-calculate-altitude-from-current-temperature-and-pressure)"
   ]
  },
  {
   "cell_type": "code",
   "execution_count": 8,
   "metadata": {},
   "outputs": [],
   "source": [
    "def get_altitude(pressure, temperature=15.0, qnh=1013.25):\n",
    "        altitude = ((pow(qnh / pressure, (1.0 / 5.257)) - 1.0) * (temperature + 273.15)) / 0.0065\n",
    "        return altitude"
   ]
  },
  {
   "cell_type": "code",
   "execution_count": 10,
   "metadata": {},
   "outputs": [],
   "source": [
    "baseline = float(0)\n",
    "if(relative):\n",
    "    print(\"Collecting baseline values for {:d} seconds. Do not move the sensor!\\n\".format(baseline_size))\n",
    "\n",
    "    baseline_values = []\n",
    "    baseline_size = 100\n",
    "    for i in range(baseline_size):\n",
    "        line = ser.readline().decode[:-2]\n",
    "        pressure = parse_serial(line)[1]\n",
    "        baseline_values.append(pressure)\n",
    "        time.sleep(1)\n",
    "\n",
    "    baseline = sum(baseline_values[:-25]) / len(baseline_values[:-25])\n",
    "else:\n",
    "    baseline = 1013.25"
   ]
  },
  {
   "cell_type": "code",
   "execution_count": 16,
   "metadata": {},
   "outputs": [
    {
     "name": "stdout",
     "output_type": "stream",
     "text": [
      "Relative altitude: 869.11 metres\n"
     ]
    }
   ],
   "source": [
    "line = ser.readline().decode()[:-2]\n",
    "tpa = parse_serial(line)  # tpa: temperature-pressure-altitude\n",
    "\n",
    "altitude = get_altitude(tpa[1]/100, tpa[0], qnh=baseline)\n",
    "print('Relative altitude: {:05.2f} metres'.format(altitude))"
   ]
  }
 ],
 "metadata": {
  "kernelspec": {
   "display_name": "Python 3",
   "language": "python",
   "name": "python3"
  },
  "language_info": {
   "codemirror_mode": {
    "name": "ipython",
    "version": 3
   },
   "file_extension": ".py",
   "mimetype": "text/x-python",
   "name": "python",
   "nbconvert_exporter": "python",
   "pygments_lexer": "ipython3",
   "version": "3.5.2"
  }
 },
 "nbformat": 4,
 "nbformat_minor": 4
}
