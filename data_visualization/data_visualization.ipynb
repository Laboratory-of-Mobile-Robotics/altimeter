{
 "cells": [
  {
   "cell_type": "code",
   "execution_count": 64,
   "metadata": {},
   "outputs": [],
   "source": [
    "import numpy as np\n",
    "import pandas as pd\n",
    "import matplotlib.pyplot as plt\n",
    "from datetime import datetime"
   ]
  },
  {
   "cell_type": "code",
   "execution_count": 89,
   "metadata": {},
   "outputs": [
    {
     "data": {
      "text/html": [
       "<div>\n",
       "<style scoped>\n",
       "    .dataframe tbody tr th:only-of-type {\n",
       "        vertical-align: middle;\n",
       "    }\n",
       "\n",
       "    .dataframe tbody tr th {\n",
       "        vertical-align: top;\n",
       "    }\n",
       "\n",
       "    .dataframe thead th {\n",
       "        text-align: right;\n",
       "    }\n",
       "</style>\n",
       "<table border=\"1\" class=\"dataframe\">\n",
       "  <thead>\n",
       "    <tr style=\"text-align: right;\">\n",
       "      <th></th>\n",
       "      <th>temperature</th>\n",
       "      <th>pressure</th>\n",
       "      <th>altitude</th>\n",
       "      <th>timestamp</th>\n",
       "    </tr>\n",
       "  </thead>\n",
       "  <tbody>\n",
       "    <tr>\n",
       "      <th>0</th>\n",
       "      <td>23.53</td>\n",
       "      <td>91198.25</td>\n",
       "      <td>923.446114</td>\n",
       "      <td>16:24:01</td>\n",
       "    </tr>\n",
       "    <tr>\n",
       "      <th>1</th>\n",
       "      <td>23.53</td>\n",
       "      <td>91196.27</td>\n",
       "      <td>923.638433</td>\n",
       "      <td>16:25:01</td>\n",
       "    </tr>\n",
       "    <tr>\n",
       "      <th>2</th>\n",
       "      <td>23.52</td>\n",
       "      <td>91194.08</td>\n",
       "      <td>923.820014</td>\n",
       "      <td>16:26:01</td>\n",
       "    </tr>\n",
       "    <tr>\n",
       "      <th>3</th>\n",
       "      <td>23.52</td>\n",
       "      <td>91191.70</td>\n",
       "      <td>924.051190</td>\n",
       "      <td>16:27:01</td>\n",
       "    </tr>\n",
       "    <tr>\n",
       "      <th>4</th>\n",
       "      <td>23.52</td>\n",
       "      <td>91193.84</td>\n",
       "      <td>923.843326</td>\n",
       "      <td>16:28:01</td>\n",
       "    </tr>\n",
       "  </tbody>\n",
       "</table>\n",
       "</div>"
      ],
      "text/plain": [
       "   temperature  pressure    altitude timestamp\n",
       "0        23.53  91198.25  923.446114  16:24:01\n",
       "1        23.53  91196.27  923.638433  16:25:01\n",
       "2        23.52  91194.08  923.820014  16:26:01\n",
       "3        23.52  91191.70  924.051190  16:27:01\n",
       "4        23.52  91193.84  923.843326  16:28:01"
      ]
     },
     "execution_count": 89,
     "metadata": {},
     "output_type": "execute_result"
    }
   ],
   "source": [
    "# df = pd.read_csv(\"../altimeter_node/log_data.csv\")\n",
    "df = pd.read_csv(\"../altimeter_node/log_data_20200121.csv\")\n",
    "df.head()"
   ]
  },
  {
   "cell_type": "code",
   "execution_count": 90,
   "metadata": {},
   "outputs": [
    {
     "data": {
      "text/html": [
       "<div>\n",
       "<style scoped>\n",
       "    .dataframe tbody tr th:only-of-type {\n",
       "        vertical-align: middle;\n",
       "    }\n",
       "\n",
       "    .dataframe tbody tr th {\n",
       "        vertical-align: top;\n",
       "    }\n",
       "\n",
       "    .dataframe thead th {\n",
       "        text-align: right;\n",
       "    }\n",
       "</style>\n",
       "<table border=\"1\" class=\"dataframe\">\n",
       "  <thead>\n",
       "    <tr style=\"text-align: right;\">\n",
       "      <th></th>\n",
       "      <th>temperature</th>\n",
       "      <th>pressure</th>\n",
       "      <th>altitude</th>\n",
       "      <th>timestamp</th>\n",
       "      <th>hour</th>\n",
       "      <th>minute</th>\n",
       "      <th>second</th>\n",
       "    </tr>\n",
       "  </thead>\n",
       "  <tbody>\n",
       "    <tr>\n",
       "      <th>0</th>\n",
       "      <td>23.53</td>\n",
       "      <td>91198.25</td>\n",
       "      <td>923.446114</td>\n",
       "      <td>16:24:01</td>\n",
       "      <td>16</td>\n",
       "      <td>24</td>\n",
       "      <td>01</td>\n",
       "    </tr>\n",
       "    <tr>\n",
       "      <th>1</th>\n",
       "      <td>23.53</td>\n",
       "      <td>91196.27</td>\n",
       "      <td>923.638433</td>\n",
       "      <td>16:25:01</td>\n",
       "      <td>16</td>\n",
       "      <td>25</td>\n",
       "      <td>01</td>\n",
       "    </tr>\n",
       "    <tr>\n",
       "      <th>2</th>\n",
       "      <td>23.52</td>\n",
       "      <td>91194.08</td>\n",
       "      <td>923.820014</td>\n",
       "      <td>16:26:01</td>\n",
       "      <td>16</td>\n",
       "      <td>26</td>\n",
       "      <td>01</td>\n",
       "    </tr>\n",
       "    <tr>\n",
       "      <th>3</th>\n",
       "      <td>23.52</td>\n",
       "      <td>91191.70</td>\n",
       "      <td>924.051190</td>\n",
       "      <td>16:27:01</td>\n",
       "      <td>16</td>\n",
       "      <td>27</td>\n",
       "      <td>01</td>\n",
       "    </tr>\n",
       "    <tr>\n",
       "      <th>4</th>\n",
       "      <td>23.52</td>\n",
       "      <td>91193.84</td>\n",
       "      <td>923.843326</td>\n",
       "      <td>16:28:01</td>\n",
       "      <td>16</td>\n",
       "      <td>28</td>\n",
       "      <td>01</td>\n",
       "    </tr>\n",
       "  </tbody>\n",
       "</table>\n",
       "</div>"
      ],
      "text/plain": [
       "   temperature  pressure    altitude timestamp hour minute second\n",
       "0        23.53  91198.25  923.446114  16:24:01   16     24     01\n",
       "1        23.53  91196.27  923.638433  16:25:01   16     25     01\n",
       "2        23.52  91194.08  923.820014  16:26:01   16     26     01\n",
       "3        23.52  91191.70  924.051190  16:27:01   16     27     01\n",
       "4        23.52  91193.84  923.843326  16:28:01   16     28     01"
      ]
     },
     "execution_count": 90,
     "metadata": {},
     "output_type": "execute_result"
    }
   ],
   "source": [
    "df['hour'] = [h[0:2] for h in (df['timestamp'])]\n",
    "df['minute'] = [h[3:5] for h in (df['timestamp'])]\n",
    "df['second'] = [h[6:] for h in (df['timestamp'])]\n",
    "df.head()"
   ]
  },
  {
   "cell_type": "code",
   "execution_count": null,
   "metadata": {},
   "outputs": [
    {
     "data": {
      "text/plain": [
       "Text(0, 0.5, 'altitude (m)')"
      ]
     },
     "execution_count": 91,
     "metadata": {},
     "output_type": "execute_result"
    }
   ],
   "source": [
    "plt.figure(figsize=[16,10])\n",
    "plt.subplot(311); plt.plot(df[\"timestamp\"],df[\"temperature\"])\n",
    "plt.xlabel(\"stamp\"); plt.ylabel(\"temperature (*C)\")\n",
    "plt.subplot(312); plt.plot(df[\"timestamp\"],df[\"pressure\"])\n",
    "plt.xlabel(\"stamp\"); plt.ylabel(\"pressure (Pa)\")\n",
    "plt.subplot(313); plt.plot(df[\"timestamp\"],df[\"altitude\"])\n",
    "plt.xlabel(\"stamp\"); plt.ylabel(\"altitude (m)\")"
   ]
  }
 ],
 "metadata": {
  "kernelspec": {
   "display_name": "altimeter",
   "language": "python",
   "name": "altimeter"
  },
  "language_info": {
   "codemirror_mode": {
    "name": "ipython",
    "version": 3
   },
   "file_extension": ".py",
   "mimetype": "text/x-python",
   "name": "python",
   "nbconvert_exporter": "python",
   "pygments_lexer": "ipython3",
   "version": "3.5.2"
  }
 },
 "nbformat": 4,
 "nbformat_minor": 4
}
